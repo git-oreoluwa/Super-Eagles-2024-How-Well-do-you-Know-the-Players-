{
 "cells": [
  {
   "cell_type": "markdown",
   "metadata": {},
   "source": [
    "## __Super Eagles 2024: How Well do you Know the Players?__\n",
    "\n"
   ]
  },
  {
   "cell_type": "markdown",
   "metadata": {},
   "source": [
    "### 1. Introduction\n",
    "\n",
    "This is a data-driven exploration of the Nigerian national football team, the Super Eagles, for the year __2024__. Leveraging Python's BeautifulSoup and requests libraries for web scraping, followed by Pandas and Mathplotlib for Exploratory Data Analysis(EDA) and Visualization respectively, this project offers a comprehensive dive into the players' attributes and statistics.\n",
    "\n",
    "\n",
    "##### Contents\n",
    "1. Introduction\n",
    "2. Data Gathering\n",
    "3. Data Cleaning and Preparation\n",
    "4. Data Preprocessing\n",
    "5. Exploratory Data Analysis (EDA)\n",
    "6. Data Visualization\n",
    "7. Conclusion  "
   ]
  },
  {
   "cell_type": "markdown",
   "metadata": {},
   "source": [
    "### 2. Data Gathering"
   ]
  },
  {
   "cell_type": "code",
   "execution_count": null,
   "metadata": {},
   "outputs": [],
   "source": [
    "pip install bs4"
   ]
  },
  {
   "cell_type": "code",
   "execution_count": null,
   "metadata": {},
   "outputs": [],
   "source": [
    "pip install seaborn"
   ]
  },
  {
   "cell_type": "code",
   "execution_count": null,
   "metadata": {},
   "outputs": [],
   "source": [
    "# Import librabries\n",
    "from bs4 import BeautifulSoup\n",
    "import requests\n",
    "import pandas as pd\n",
    "from datetime import datetime\n",
    "import seaborn as sns\n",
    "import matplotlib.pyplot as plt\n",
    "import numpy as np"
   ]
  },
  {
   "cell_type": "code",
   "execution_count": null,
   "metadata": {},
   "outputs": [],
   "source": [
    "# Define the URL of the webpage to scrape\n",
    "url = 'https://www.transfermarkt.com/nigeria/kader/verein/3444/saison_id/2023/plus/1'  # Replace this with the target website URL\n",
    "\n",
    "# Define custom headers to mimic a request from a web browser\n",
    "headers = {\n",
    "    'User-Agent': 'Mozilla/5.0 (Windows NT 10.0; Win64; x64) AppleWebKit/537.36 (KHTML, like Gecko) Chrome/109.0.0.0 Safari/537.36',\n",
    "}\n",
    " \n",
    "# Send an HTTP GET request to the URL with the custom headers\n",
    "response = requests.get(url, headers=headers)\n",
    "\n",
    "# Check if the request was successful (status code 200)\n",
    "if response.status_code == 200:\n",
    "    print(response.text)  # Print the content of the response\n",
    "else:\n",
    "    print(f'Request failed with status code: {response.status_code}')\n"
   ]
  },
  {
   "cell_type": "code",
   "execution_count": null,
   "metadata": {},
   "outputs": [],
   "source": [
    "# Create a BeautifulSoup object from the HTML content of the response\n",
    "soup = BeautifulSoup(response.text,'html')\n",
    "\n",
    "# Find the location of the table to scrape\n",
    "table = soup.find('table', class_ = 'items')\n",
    "\n",
    "table"
   ]
  },
  {
   "cell_type": "code",
   "execution_count": null,
   "metadata": {},
   "outputs": [],
   "source": [
    "# Extract the 'headers' from the 'th'\n",
    "squad_titles = table.find_all('th')\n",
    "\n",
    "squad_table_titles = [title.text.strip() for title in squad_titles]\n",
    "\n",
    "# Add another header 'Position' after the 'Player'\n",
    "squad_table_titles.insert(squad_table_titles.index('Player') + 1, 'Position')\n",
    "\n",
    "print(squad_table_titles)"
   ]
  },
  {
   "cell_type": "code",
   "execution_count": null,
   "metadata": {},
   "outputs": [],
   "source": [
    "# Place it into a DataFrame\n",
    "df = pd.DataFrame(columns = squad_table_titles)\n",
    "\n",
    "df"
   ]
  },
  {
   "cell_type": "code",
   "execution_count": null,
   "metadata": {},
   "outputs": [],
   "source": [
    "# Extract the rows out\n",
    "column_data = table.find_all('tr')\n",
    "for row in column_data:\n",
    "    row_data = row.find_all('td')\n",
    "    individual_row_data = [data.text.strip() for data in row_data]  \n",
    "    print(individual_row_data)"
   ]
  },
  {
   "cell_type": "markdown",
   "metadata": {},
   "source": [
    "### 3. Data Cleaning and Preparation"
   ]
  },
  {
   "cell_type": "code",
   "execution_count": null,
   "metadata": {},
   "outputs": [],
   "source": [
    "# Assuming individual_row_data is a list with the correct number of elements\n",
    "expected_num_columns = len(df.columns)\n",
    "\n",
    "for row in column_data[1:]:\n",
    "    row_data = row.find_all('td')\n",
    "    individual_row_data = [data.get_text(strip=True) for data in row_data]\n",
    "    \n",
    "    # Extract the club title from the <a> tag's 'title' attribute\n",
    "    club_title = next((data.find('a')['title'] for data in row_data if data.find('a') and 'title' in data.find('a').attrs), None)\n",
    "    \n",
    "    # Replace the item at index   4 (fifth position) with the club title\n",
    "    if club_title:\n",
    "        individual_row_data[6] = club_title\n",
    "    \n",
    "    # Remove the second and third columns (indices   1 and   2 since list is zero-indexed)\n",
    "    if len(individual_row_data) >   2:\n",
    "        del individual_row_data[1]\n",
    "        del individual_row_data[1]\n",
    "    \n",
    "    # Check if the row has the correct number of columns before appending\n",
    "    if len(individual_row_data) == expected_num_columns:\n",
    "        # Use .loc[] to assign the new row to the DataFrame\n",
    "        df.loc[len(df)] = individual_row_data\n",
    "df"
   ]
  },
  {
   "cell_type": "code",
   "execution_count": null,
   "metadata": {},
   "outputs": [],
   "source": [
    "# Replace \"-\" with 0 in the \"International matches\" and \"Goals\" columns\n",
    "df['International matches'] = df['International matches'].replace('-', 0)\n",
    "df['Goals'] = df['Goals'].replace('-', 0)\n",
    "\n",
    "# Replace 'm' with ' ' and ',' with '.' in \"Height\" column \n",
    "df['Height'] = df['Height'].str.replace('m', '', regex=True)\n",
    "df['Height'] = df['Height'].str.replace(',', '.', regex=True)"
   ]
  },
  {
   "cell_type": "code",
   "execution_count": null,
   "metadata": {},
   "outputs": [],
   "source": [
    "# Rename the column 'Market value' to 'Market value(EURO €)\n",
    "df.rename(columns={'Market value': 'Market value(EURO €)'}, inplace=True)\n",
    "\n",
    "# Rename the column 'Market value' to 'Market value(EURO €)\n",
    "df.rename(columns={'Height': 'Height(m)'}, inplace= True)\n"
   ]
  },
  {
   "cell_type": "code",
   "execution_count": null,
   "metadata": {},
   "outputs": [],
   "source": [
    "# Update Data with current values\n",
    "df.loc[3:11, 'Position'] = 'Defender'\n",
    "df.loc[12:17, 'Position'] = 'Midfield'\n",
    "df.loc[18:24, 'Position'] = 'Forward'\n",
    "df.at[8,'Player'] = 'Zaidu Sanusi'\n",
    "df.at[1,'Player'] = 'Stanley Nwabali'\n",
    "df.at[0,'International matches'] = 35\n",
    "df.at[1,'International matches'] = 9\n",
    "df.at[8,'International matches'] = 22\n",
    "df.at[11,'International matches'] = 40\n",
    "df.at[5,'International matches'] = 71\n",
    "df.at[7,'International matches'] = 34\n",
    "df.at[10,'International matches'] = 14\n",
    "df.at[9,'International matches'] = 5\n",
    "df.at[4,'International matches'] = 31\n",
    "df.at[3,'International matches'] = 23\n",
    "df.at[6,'International matches'] = 67\n",
    "df.at[15,'International matches'] = 5\n",
    "df.at[13,'International matches'] = 24\n",
    "df.at[14,'International matches'] = 34\n",
    "df.at[17,'International matches'] = 71\n",
    "df.at[16,'International matches'] = 76\n",
    "df.at[12,'International matches'] = 5\n",
    "df.at[18,'International matches'] = 109\n",
    "df.at[21,'International matches'] = 35\n",
    "df.at[19,'International matches'] = 36\n",
    "df.at[23,'International matches'] = 52\n",
    "df.at[20,'International matches'] = 19\n",
    "df.at[24,'International matches'] = 23\n",
    "df.at[22,'International matches'] = 16\n",
    "df.at[5,'Goals'] = 7\n",
    "df.at[7,'Goals'] = 1\n",
    "df.at[13,'Goals'] = 1\n",
    "df.at[17,'Goals'] = 9\n",
    "df.at[21,'Goals'] = 21\n",
    "df.at[19,'Goals'] = 5\n",
    "df.at[23,'Goals'] = 15\n",
    "df.at[20,'Goals'] = 5\n",
    "df.at[1, 'Debut'] = 'July 4, 2021'\n"
   ]
  },
  {
   "cell_type": "markdown",
   "metadata": {},
   "source": [
    "#### 4. Data Preprocessing"
   ]
  },
  {
   "cell_type": "code",
   "execution_count": null,
   "metadata": {},
   "outputs": [],
   "source": [
    "# Convert the \"Debut\" column to datetime format\n",
    "df['Debut'] = pd.to_datetime(df['Debut'], errors='coerce')\n",
    "\n",
    "# Calculate the difference between present date and debut date\n",
    "present_date = datetime(2024, 2, 1)  # February 2024\n",
    "df['Years Played'] = (present_date - df['Debut']).dt.days / 365\n",
    "\n",
    "# Round the 'Years Played' column to 1 decimal place\n",
    "df['Years Played'] = df['Years Played'].round(1)\n"
   ]
  },
  {
   "cell_type": "code",
   "execution_count": null,
   "metadata": {},
   "outputs": [],
   "source": [
    "# Splitting the \"Date of birth/Age\" column into two separate columns\n",
    "df[['Date of birth', 'Age']] = df['Date of birth/Age'].str.extract(r'(.+)\\((\\d+)\\)')\n",
    "\n",
    "# Dropping the original \"Date of birth/Age\" column\n",
    "df.drop(columns=['Date of birth/Age'], inplace=True)\n",
    "\n",
    "# Inserting the \"Date of birth\" column at position 3 and \"Age\" column at position 4\n",
    "df.insert(3, 'Date of birth', df.pop('Date of birth'))\n",
    "df.insert(4, 'Age', df.pop('Age'))\n"
   ]
  },
  {
   "cell_type": "code",
   "execution_count": null,
   "metadata": {},
   "outputs": [],
   "source": [
    "df"
   ]
  },
  {
   "cell_type": "code",
   "execution_count": null,
   "metadata": {},
   "outputs": [],
   "source": [
    "# Remove the Euro symbol from the 'Market' column\n",
    "df['Market value(EURO €)'] = df['Market value(EURO €)'].str.replace('€', '', regex=True)\n",
    "\n",
    "def convert_decimal_string_to_thousands(decimal_str):\n",
    "    # Check if 'm' is in the string\n",
    "    if 'm' in decimal_str:\n",
    "        # Remove the 'm' and parse the remaining string to a float\n",
    "        decimal_value = float(decimal_str.rstrip('m'))\n",
    "        # Convert the float to an integer to remove the decimal point\n",
    "        integer_value = int(decimal_value *   100)\n",
    "        # Multiply by   1000 to convert to thousands\n",
    "        thousands_value = integer_value *   10000\n",
    "        return thousands_value\n",
    "    else:\n",
    "        # Handle the case where 'm' is not found in the string\n",
    "        # Parse the string to a float\n",
    "        decimal_value = float(decimal_str.rstrip('k'))\n",
    "        # Multiply by  1000 to convert to thousands\n",
    "        return int(decimal_value *  1000)\n",
    "\n",
    "# Example usage:\n",
    "df['Market value(EURO €)'] = df['Market value(EURO €)'].apply(convert_decimal_string_to_thousands)\n",
    "\n"
   ]
  },
  {
   "cell_type": "code",
   "execution_count": null,
   "metadata": {},
   "outputs": [],
   "source": [
    "\n",
    "# Convert  specific column to a different data type\n",
    "df['Player'] = df['Player'].astype(str)\n",
    "df['Position'] = df['Position'].astype(str)\n",
    "df['Club'] = df['Club'].astype(str)\n",
    "df['Height(m)'] = df['Height(m)'].astype(float)\n",
    "df['Foot'] = df['Foot'].astype(str)\n",
    "df['Age'] = df['Age'].astype(int)\n",
    "df['Goals'] = df['Goals'].astype(int)\n",
    "\n",
    "# Convert 'Date of Birth' column to date datatype\n",
    "df['Date of birth'] = pd.to_datetime(df['Date of birth'])\n"
   ]
  },
  {
   "cell_type": "code",
   "execution_count": null,
   "metadata": {},
   "outputs": [],
   "source": [
    "df"
   ]
  },
  {
   "cell_type": "markdown",
   "metadata": {},
   "source": [
    "#### 5. Exploratory Data Analysis (EDA)"
   ]
  },
  {
   "cell_type": "code",
   "execution_count": null,
   "metadata": {},
   "outputs": [],
   "source": [
    "# getting the overview of my DataFrame's structure\n",
    "df.info()"
   ]
  },
  {
   "cell_type": "code",
   "execution_count": null,
   "metadata": {},
   "outputs": [],
   "source": [
    "# Obtaining df summary statistics for numerical columns, providing insights into the distribution of the data.\n",
    "df.describe()\n",
    "\n",
    "#df.select_dtypes(include= 'number')"
   ]
  },
  {
   "cell_type": "code",
   "execution_count": null,
   "metadata": {},
   "outputs": [],
   "source": [
    "# identifying columns with missing data\n",
    "df.isnull().sum()"
   ]
  },
  {
   "cell_type": "code",
   "execution_count": null,
   "metadata": {},
   "outputs": [],
   "source": [
    "# identifying columns with unique value\n",
    "df.nunique()"
   ]
  },
  {
   "cell_type": "code",
   "execution_count": null,
   "metadata": {},
   "outputs": [],
   "source": [
    "df.sort_values(by = \"Goals\", ascending= False).head(5)"
   ]
  },
  {
   "cell_type": "code",
   "execution_count": null,
   "metadata": {},
   "outputs": [],
   "source": [
    "# Sort the DataFrame based on 'Goals' column in descending order and select the top 5 rows\n",
    "top_5_goals = df.sort_values(by='Goals', ascending=False).head(5)\n",
    "\n",
    "top_goals= top_5_goals[['Player', 'Goals']].reset_index(drop = True)\n",
    "\n",
    "top_goals"
   ]
  },
  {
   "cell_type": "code",
   "execution_count": null,
   "metadata": {},
   "outputs": [],
   "source": [
    "# Sort the DataFrame based on 'Intenational matches' column in descending order and select the top 5 rows\n",
    "appearance = df.sort_values(by='International matches', ascending=False).head(5)\n",
    "\n",
    "caps = appearance[['Player', 'International matches']]\n",
    "\n",
    "caps"
   ]
  },
  {
   "cell_type": "code",
   "execution_count": null,
   "metadata": {},
   "outputs": [],
   "source": [
    "# Sort the DataFrame based on 'Intenational matches' column in descending order and select the top 5 rows\n",
    "high_value = df.sort_values(by='Market value(EURO €)', ascending=False).head(5)\n",
    "\n",
    "value = high_value[['Player', 'Market value(EURO €)']]\n",
    "\n",
    "value"
   ]
  },
  {
   "cell_type": "code",
   "execution_count": null,
   "metadata": {},
   "outputs": [],
   "source": [
    "select_columns = ['Age', 'International matches', 'Height(m)', 'Goals', 'Market value(EURO €)', 'Years Played']\n",
    "\n",
    "correlation_matrix = df[select_columns].corr()\n",
    "\n",
    "correlation_matrix"
   ]
  },
  {
   "cell_type": "code",
   "execution_count": null,
   "metadata": {},
   "outputs": [],
   "source": [
    "sns.heatmap(df[select_columns].corr(), annot= True)\n",
    "\n",
    "#to change the size of the plt\n",
    "#plt.rcParams['figure.figsize' = (15,7)]\n",
    "\n",
    "plt.show()"
   ]
  },
  {
   "cell_type": "code",
   "execution_count": null,
   "metadata": {},
   "outputs": [],
   "source": [
    "df[select_columns].boxplot(figsize=(10,6))"
   ]
  },
  {
   "cell_type": "code",
   "execution_count": null,
   "metadata": {},
   "outputs": [],
   "source": [
    "\n",
    "result = df.groupby('Position').agg({'Age': 'mean', 'Height(m)': 'mean', 'International matches': 'mean', 'Market value(EURO €)': 'sum'}).sort_values(by = 'Market value(EURO €)')\n",
    "\n",
    "result = result.round(1)\n",
    "\n",
    "result['International matches'] = result['International matches'].apply(lambda x: round(x, 1))\n",
    "\n",
    "result"
   ]
  },
  {
   "cell_type": "markdown",
   "metadata": {},
   "source": [
    "### 4. Data Visualization\n"
   ]
  },
  {
   "cell_type": "code",
   "execution_count": null,
   "metadata": {},
   "outputs": [],
   "source": [
    "top_goals.plot.barh('Player', 'Goals', ylabel = 'Player', xlabel = 'Goals', color= 'lightgreen', title = ' Top 5 Super Eagles Goals Scorers')"
   ]
  },
  {
   "cell_type": "code",
   "execution_count": null,
   "metadata": {},
   "outputs": [],
   "source": [
    "\n",
    "ax = caps.plot(kind='bar', figsize=(6,  6), color='steelblue')\n",
    "plt.ylabel('International matches')\n",
    "plt.xlabel('Player')   \n",
    "plt.title('Top 5 players with the most International caps')\n",
    "\n",
    "# Set player names as x-tick labels\n",
    "plt.xticks(range(len(caps)), caps['Player'])\n",
    "\n",
    "# Annotate value labels to each bar\n",
    "for i in range(len(caps)):\n",
    "    matches = caps['International matches'].iloc[i]\n",
    "    label = f'{matches}'\n",
    "    ax.annotate(label, xy=(i, matches), color='black', ha='center', va='bottom')\n",
    "\n",
    "plt.show()\n"
   ]
  },
  {
   "cell_type": "code",
   "execution_count": null,
   "metadata": {},
   "outputs": [],
   "source": [
    "\n",
    "value"
   ]
  },
  {
   "cell_type": "code",
   "execution_count": null,
   "metadata": {},
   "outputs": [],
   "source": [
    "# Create a horizontal bar chart\n",
    "lb = plt.barh(value['Player'], value['Market value(EURO €)'], align='center', color='None', edgecolor='darkgreen', alpha=1)\n",
    "plt.yticks(value['Player'])   # Use player names for yticks\n",
    "plt.xlabel('Market value(EURO €)')   # Label for x-axis\n",
    "plt.title('Top 5 players with the most International caps')\n",
    "\n",
    "# Annotate value labels to each bar\n",
    "for bar in lb:\n",
    "    market = bar.get_width()  # Get the market value from the width of the bar\n",
    "    label = f'{market:,.0f}'  # Format the label\n",
    "    plt.annotate(label, xy=(market, bar.get_y() + bar.get_height() / 2), color='black', ha='left', va='center')\n",
    "\n",
    "plt.show()"
   ]
  },
  {
   "cell_type": "code",
   "execution_count": null,
   "metadata": {},
   "outputs": [],
   "source": [
    "df.plot.scatter(x = 'International matches', y = 'Years Played', s= 100, title = 'Relationship between Players CAPS and Years Played')"
   ]
  },
  {
   "cell_type": "code",
   "execution_count": null,
   "metadata": {},
   "outputs": [],
   "source": [
    "df.plot.scatter(x = 'International matches', y = 'Market value(EURO €)', s = 100, title = 'Relationship between Players CAPS and Market value(EURO €)')"
   ]
  },
  {
   "cell_type": "code",
   "execution_count": null,
   "metadata": {},
   "outputs": [],
   "source": [
    "# Count the occurrences of each category in the 'Foot' column\n",
    "foot_counts = df['Foot'].value_counts()\n",
    "\n",
    "# Plot a pie chart\n",
    "foot_counts.plot.pie(autopct='%1.1f%%', figsize=(5, 5))\n",
    "\n",
    "# Add a title\n",
    "plt.title('Distribution of Super Eagles Players by Preferred Foot')\n",
    "\n",
    "# Show the plot\n",
    "plt.show()"
   ]
  },
  {
   "cell_type": "code",
   "execution_count": null,
   "metadata": {},
   "outputs": [],
   "source": [
    "# Create DataFrame\n",
    "results = pd.DataFrame(result, index=['Goalkeeper', 'Defender', 'Midfield', 'Forward'])\n",
    "# Plot the bar chart\n",
    "results['Market value(EURO €)'].plot(kind='bar', color='skyblue', figsize=(8, 5))\n",
    "\n",
    "# Add labels and title\n",
    "plt.xlabel('Position')\n",
    "plt.ylabel('Market value(EURO €)')\n",
    "plt.title('Market value by Position')\n",
    "\n",
    "# Show the plot\n",
    "plt.show()"
   ]
  },
  {
   "cell_type": "code",
   "execution_count": null,
   "metadata": {},
   "outputs": [],
   "source": [
    "df.to_csv(r'C:\\Users\\ELITEX21012G2\\Documents\\SUperEagles\\players_.csv', index=False)"
   ]
  },
  {
   "cell_type": "markdown",
   "metadata": {},
   "source": [
    "#### 8. Conclusion\n"
   ]
  },
  {
   "cell_type": "markdown",
   "metadata": {},
   "source": [
    "I exported this file to Tableau where i built a dashboard with it to better display my analysis."
   ]
  },
  {
   "cell_type": "code",
   "execution_count": null,
   "metadata": {},
   "outputs": [],
   "source": [
    "#df = df.iloc[0:0]\n",
    "df = pd.DataFrame()  # Reassign an empty DataFrame\n",
    "\n",
    "len(df)"
   ]
  }
 ],
 "metadata": {
  "kernelspec": {
   "display_name": "Python 3",
   "language": "python",
   "name": "python3"
  },
  "language_info": {
   "codemirror_mode": {
    "name": "ipython",
    "version": 3
   },
   "file_extension": ".py",
   "mimetype": "text/x-python",
   "name": "python",
   "nbconvert_exporter": "python",
   "pygments_lexer": "ipython3",
   "version": "3.12.2"
  }
 },
 "nbformat": 4,
 "nbformat_minor": 2
}
